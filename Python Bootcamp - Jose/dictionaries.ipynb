{
 "cells": [
  {
   "cell_type": "code",
   "execution_count": 11,
   "id": "fa97fb5f-cd02-4d1e-b2ac-5ae7022a27c8",
   "metadata": {},
   "outputs": [
    {
     "name": "stdout",
     "output_type": "stream",
     "text": [
      "nitesh\n"
     ]
    }
   ],
   "source": [
    "new_dict = {\"name\": \"nitesh\",\n",
    "            \"surname\": \"jha\"\n",
    "           }\n",
    "\n",
    "print(new_dict[\"name\"])"
   ]
  },
  {
   "cell_type": "code",
   "execution_count": 13,
   "id": "47d94b59-d9b6-4c15-8186-bf2db0b40d36",
   "metadata": {},
   "outputs": [],
   "source": [
    "new_dict[\"name\"] = \"Prerna\"\n"
   ]
  },
  {
   "cell_type": "code",
   "execution_count": 15,
   "id": "8d23d6f4-8373-42d3-b469-ceaf5b7322d5",
   "metadata": {},
   "outputs": [
    {
     "name": "stdout",
     "output_type": "stream",
     "text": [
      "{'name': 'Prerna', 'surname': 'jha'}\n"
     ]
    }
   ],
   "source": [
    "print(new_dict)"
   ]
  },
  {
   "cell_type": "code",
   "execution_count": null,
   "id": "a5cd4bea-479e-475d-982e-35b02cb1838f",
   "metadata": {},
   "outputs": [],
   "source": []
  }
 ],
 "metadata": {
  "kernelspec": {
   "display_name": "Python 3 (ipykernel)",
   "language": "python",
   "name": "python3"
  },
  "language_info": {
   "codemirror_mode": {
    "name": "ipython",
    "version": 3
   },
   "file_extension": ".py",
   "mimetype": "text/x-python",
   "name": "python",
   "nbconvert_exporter": "python",
   "pygments_lexer": "ipython3",
   "version": "3.11.7"
  }
 },
 "nbformat": 4,
 "nbformat_minor": 5
}
