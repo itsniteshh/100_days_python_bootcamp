{
 "cells": [
  {
   "cell_type": "code",
   "execution_count": 1,
   "id": "4976d573-29a3-402d-9fb4-aca05396c2b9",
   "metadata": {},
   "outputs": [
    {
     "data": {
      "text/plain": [
       "5"
      ]
     },
     "execution_count": 1,
     "metadata": {},
     "output_type": "execute_result"
    }
   ],
   "source": [
    "2+3"
   ]
  },
  {
   "cell_type": "code",
   "execution_count": 3,
   "id": "d225d355-bf81-4df8-9b51-18516efae867",
   "metadata": {},
   "outputs": [
    {
     "name": "stdout",
     "output_type": "stream",
     "text": [
      "Hello world\n"
     ]
    }
   ],
   "source": [
    "print(\"Hello world\")"
   ]
  },
  {
   "cell_type": "code",
   "execution_count": 11,
   "id": "a9393159-dce7-4793-96b0-542968283032",
   "metadata": {},
   "outputs": [
    {
     "data": {
      "text/plain": [
       "False"
      ]
     },
     "execution_count": 11,
     "metadata": {},
     "output_type": "execute_result"
    }
   ],
   "source": [
    "(.2 + 0.1 )- 0.3 == 0"
   ]
  },
  {
   "cell_type": "code",
   "execution_count": 23,
   "id": "6b82af54-c1ef-4208-808b-e857b5497431",
   "metadata": {},
   "outputs": [
    {
     "data": {
      "text/plain": [
       "'m aei ieh'"
      ]
     },
     "execution_count": 23,
     "metadata": {},
     "output_type": "execute_result"
    }
   ],
   "source": [
    "name = \"my name is nitesh\"\n",
    "name[::2]"
   ]
  },
  {
   "cell_type": "code",
   "execution_count": 4,
   "id": "ee3a0668-234e-451c-997d-b5499144a7fe",
   "metadata": {},
   "outputs": [
    {
     "data": {
      "text/plain": [
       "'string here nitesh and string there prerna'"
      ]
     },
     "execution_count": 4,
     "metadata": {},
     "output_type": "execute_result"
    }
   ],
   "source": [
    "\"string here {} and string there {}\".format(\"nitesh\", \"prerna\")"
   ]
  },
  {
   "cell_type": "code",
   "execution_count": 10,
   "id": "df8f9d90-68b9-4731-b798-af1bd21197bf",
   "metadata": {},
   "outputs": [],
   "source": [
    "name = \"my name is nitesh\""
   ]
  },
  {
   "cell_type": "code",
   "execution_count": 14,
   "id": "50ef68f4-ee64-4dae-a083-663db99d93e8",
   "metadata": {},
   "outputs": [
    {
     "data": {
      "text/plain": [
       "'my nayour is nitesh'"
      ]
     },
     "execution_count": 14,
     "metadata": {},
     "output_type": "execute_result"
    }
   ],
   "source": [
    "name.replace(\"me\", \"your\")"
   ]
  },
  {
   "cell_type": "code",
   "execution_count": null,
   "id": "a29e5ee4-716f-43d2-900e-0781ec4309e1",
   "metadata": {},
   "outputs": [],
   "source": []
  }
 ],
 "metadata": {
  "kernelspec": {
   "display_name": "Python 3 (ipykernel)",
   "language": "python",
   "name": "python3"
  },
  "language_info": {
   "codemirror_mode": {
    "name": "ipython",
    "version": 3
   },
   "file_extension": ".py",
   "mimetype": "text/x-python",
   "name": "python",
   "nbconvert_exporter": "python",
   "pygments_lexer": "ipython3",
   "version": "3.11.7"
  }
 },
 "nbformat": 4,
 "nbformat_minor": 5
}
