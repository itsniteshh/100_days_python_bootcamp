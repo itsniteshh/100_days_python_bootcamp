{
 "cells": [
  {
   "cell_type": "markdown",
   "id": "6d4036f5",
   "metadata": {},
   "source": [
    "# warmup section"
   ]
  },
  {
   "cell_type": "code",
   "execution_count": 2,
   "id": "cc67c49f",
   "metadata": {},
   "outputs": [
    {
     "data": {
      "text/plain": [
       "5"
      ]
     },
     "execution_count": 2,
     "metadata": {},
     "output_type": "execute_result"
    }
   ],
   "source": [
    "def lesser_of_two(a, b):\n",
    "    \n",
    "    if a % 2 == 0 and b % 2 == 0:\n",
    "        if a < b:\n",
    "            return a\n",
    "        else:\n",
    "            return b\n",
    "    else:\n",
    "        if a > b:\n",
    "            return a\n",
    "        else:\n",
    "            return b\n",
    "        \n",
    "        \n",
    "lesser_of_two(2, 5)    "
   ]
  },
  {
   "cell_type": "code",
   "execution_count": 6,
   "id": "28d05ad2",
   "metadata": {},
   "outputs": [
    {
     "data": {
      "text/plain": [
       "False"
      ]
     },
     "execution_count": 6,
     "metadata": {},
     "output_type": "execute_result"
    }
   ],
   "source": [
    "word = \"crazy kangaroo\"\n",
    "\n",
    "def animal_crackers(text):\n",
    "    \"\"\"takes a two word string and returns True if both words begin with same letter\n",
    "    \"\"\"\n",
    "    new_list = text.split()\n",
    "    first = str(new_list[0])\n",
    "    second = str(new_list[1])\n",
    "    \n",
    "    return first[0] == second[0]\n",
    "\n",
    "animal_crackers(word)"
   ]
  },
  {
   "cell_type": "code",
   "execution_count": null,
   "id": "01bec810",
   "metadata": {},
   "outputs": [],
   "source": [
    "def other_side_of_seven(num):\n",
    "    "
   ]
  }
 ],
 "metadata": {
  "kernelspec": {
   "display_name": "Python 3 (ipykernel)",
   "language": "python",
   "name": "python3"
  },
  "language_info": {
   "codemirror_mode": {
    "name": "ipython",
    "version": 3
   },
   "file_extension": ".py",
   "mimetype": "text/x-python",
   "name": "python",
   "nbconvert_exporter": "python",
   "pygments_lexer": "ipython3",
   "version": "3.11.7"
  }
 },
 "nbformat": 4,
 "nbformat_minor": 5
}
