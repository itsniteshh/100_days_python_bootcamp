{
 "cells": [
  {
   "cell_type": "markdown",
   "id": "6d4036f5",
   "metadata": {},
   "source": [
    "# warmup section"
   ]
  },
  {
   "cell_type": "code",
   "execution_count": 4,
   "id": "cc67c49f",
   "metadata": {},
   "outputs": [
    {
     "data": {
      "text/plain": [
       "5"
      ]
     },
     "execution_count": 4,
     "metadata": {},
     "output_type": "execute_result"
    }
   ],
   "source": [
    "def lesser_of_two_evans(a, b):\n",
    "    \n",
    "    \"\"\"a func to return lesser of the two evan nums\"\"\"\n",
    "    \n",
    "    if a % 2 == 0 and b % 2 == 0:\n",
    "        if a > b:\n",
    "            return b\n",
    "        else:\n",
    "            return a\n",
    "    else:\n",
    "        if a > b:\n",
    "            return a\n",
    "        else:\n",
    "            return b\n",
    "    \n",
    "    \n",
    "    \n",
    "lesser_of_two_evans(2, 5)"
   ]
  },
  {
   "cell_type": "code",
   "execution_count": 16,
   "id": "28d05ad2",
   "metadata": {},
   "outputs": [
    {
     "data": {
      "text/plain": [
       "False"
      ]
     },
     "execution_count": 16,
     "metadata": {},
     "output_type": "execute_result"
    }
   ],
   "source": [
    "def animal_crackers(text):\n",
    "    \"\"\"function that takes a two word string and returns True if both wrods begin with same letter\"\"\"\n",
    "    new_words = text.split()\n",
    "    \n",
    "    return new_words[0][0] == new_words[1][0]\n",
    "\n",
    "animal_crackers('Crazy Kangaroo')"
   ]
  },
  {
   "cell_type": "code",
   "execution_count": 26,
   "id": "01bec810",
   "metadata": {},
   "outputs": [
    {
     "data": {
      "text/plain": [
       "-3"
      ]
     },
     "execution_count": 26,
     "metadata": {},
     "output_type": "execute_result"
    }
   ],
   "source": [
    "def other_side_of_seven(num):\n",
    "    \"\"\"given a value, return a value that is twice as far away on the other side of 7\"\"\"\n",
    "    new_num = num - 7 # subtracting num from 7\n",
    "    double_new_num = new_num * 2 # doubling the num\n",
    "    final_num = 7 - double_new_num # subtracting the double from 7\n",
    "    return final_num\n",
    "\n",
    "other_side_of_seven(12)"
   ]
  },
  {
   "cell_type": "markdown",
   "id": "0523af53",
   "metadata": {},
   "source": [
    "# LEVEL 1 PROGRAM"
   ]
  },
  {
   "cell_type": "code",
   "execution_count": 12,
   "id": "4e48dd7e",
   "metadata": {},
   "outputs": [
    {
     "data": {
      "text/plain": [
       "'MacDonald'"
      ]
     },
     "execution_count": 12,
     "metadata": {},
     "output_type": "execute_result"
    }
   ],
   "source": [
    "def old_macdonald(name):\n",
    "    \"\"\"func that capitalizes the first and fourth letter of a sentence\"\"\"\n",
    "    new = []\n",
    "    for w in word:\n",
    "        new.append(w)\n",
    "        \n",
    "    first = new[0].title()\n",
    "    fourth = new[3].title()\n",
    "\n",
    "    final = first + word[1:3] + fourth + word[4:]\n",
    "    return final\n",
    "\n",
    "old_macdonald(\"macdonald\")"
   ]
  },
  {
   "cell_type": "code",
   "execution_count": 16,
   "id": "8817f7a2",
   "metadata": {},
   "outputs": [
    {
     "data": {
      "text/plain": [
       "['ready', 'are', 'We']"
      ]
     },
     "execution_count": 16,
     "metadata": {},
     "output_type": "execute_result"
    }
   ],
   "source": [
    "def master_yoda(text):\n",
    "    \"\"\"func that returns a sentence in reverse\"\"\"\n",
    "    new_text = text.split(\" \")\n",
    "    return new_text[::-1]\n",
    "\n",
    "master_yoda(\"We are ready\")"
   ]
  },
  {
   "cell_type": "code",
   "execution_count": 41,
   "id": "4d808525",
   "metadata": {},
   "outputs": [
    {
     "data": {
      "text/plain": [
       "True"
      ]
     },
     "execution_count": 41,
     "metadata": {},
     "output_type": "execute_result"
    }
   ],
   "source": [
    "def almost_there(n):\n",
    "    \"\"\"function that returns True if n is within 10 of either 100 or 200\"\"\"\n",
    "    return abs(200 - n) <= 10 or abs(100 - n) <= 10\n",
    "\n",
    "almost_there(209)"
   ]
  },
  {
   "cell_type": "markdown",
   "id": "7251b765",
   "metadata": {},
   "source": [
    "# LEVEL 2"
   ]
  },
  {
   "cell_type": "code",
   "execution_count": 42,
   "id": "d4154a41",
   "metadata": {},
   "outputs": [],
   "source": [
    "def laughter(pattern, text):\n",
    "    \"\"\"function that counts the num of times a given pattern appears in a string, inclduing overlap\"\"\"\n",
    "    pass"
   ]
  },
  {
   "cell_type": "code",
   "execution_count": 77,
   "id": "67b36002",
   "metadata": {},
   "outputs": [
    {
     "ename": "AttributeError",
     "evalue": "'list' object has no attribute 'enumerate'",
     "output_type": "error",
     "traceback": [
      "\u001b[1;31m---------------------------------------------------------------------------\u001b[0m",
      "\u001b[1;31mAttributeError\u001b[0m                            Traceback (most recent call last)",
      "Cell \u001b[1;32mIn[77], line 7\u001b[0m\n\u001b[0;32m      3\u001b[0m count \u001b[38;5;241m=\u001b[39m \u001b[38;5;241m0\u001b[39m\n\u001b[0;32m      5\u001b[0m new_word \u001b[38;5;241m=\u001b[39m words\u001b[38;5;241m.\u001b[39msplit()\n\u001b[1;32m----> 7\u001b[0m \u001b[38;5;28;01mfor\u001b[39;00m word, index \u001b[38;5;129;01min\u001b[39;00m new_word\u001b[38;5;241m.\u001b[39menumerate():\n\u001b[0;32m      8\u001b[0m     \u001b[38;5;28mprint\u001b[39m(word)\n",
      "\u001b[1;31mAttributeError\u001b[0m: 'list' object has no attribute 'enumerate'"
     ]
    }
   ],
   "source": [
    "words = \"hahahah\"\n",
    "pattern = \"hah\"\n",
    "count = 0\n",
    "\n",
    "new_word = words.split()\n",
    "\n",
    "for word, index in new_word.enumerate():\n",
    "    print(word)\n",
    "        "
   ]
  },
  {
   "cell_type": "code",
   "execution_count": 60,
   "id": "2908d016",
   "metadata": {},
   "outputs": [
    {
     "data": {
      "text/plain": [
       "'BUST'"
      ]
     },
     "execution_count": 60,
     "metadata": {},
     "output_type": "execute_result"
    }
   ],
   "source": [
    "def blackjack(a, b, c):\n",
    "    \"\"\"given 3 integers between 1 and 11, if their sum is less than or equal to 21, return their sum. \n",
    "    if their sum exceeds 21 and theres an eleven, reduce the total sum by 10. Finally, if the sum exceeds 21, return Busy\"\"\"\n",
    "    \n",
    "    total = a + b + c\n",
    "\n",
    "    if total <= 21:\n",
    "        return total \n",
    "    elif total > 21 and ((a == 11) or (b == 11) or (c == 11)):\n",
    "        return total - 10\n",
    "    else:\n",
    "        return \"BUST\"\n",
    "blackjack(9, 9, 9)"
   ]
  },
  {
   "cell_type": "code",
   "execution_count": 72,
   "id": "4ea3a4e1",
   "metadata": {},
   "outputs": [
    {
     "data": {
      "text/plain": [
       "'MMMiiissssssiiissssssiiippppppiii'"
      ]
     },
     "execution_count": 72,
     "metadata": {},
     "output_type": "execute_result"
    }
   ],
   "source": [
    "def paper_doll(text):\n",
    "    \"\"\"given a string, return a string where for every chara in the original there are three char\"\"\"\n",
    "    final = []\n",
    "    \n",
    "    for words in text:\n",
    "        words *= 3\n",
    "        final.append(words)\n",
    "    \n",
    "    final_res = \"\".join(final)\n",
    "    return final_res\n",
    "\n",
    "paper_doll(\"Mississippi\")"
   ]
  },
  {
   "cell_type": "code",
   "execution_count": null,
   "id": "a265f7c2",
   "metadata": {},
   "outputs": [],
   "source": [
    "def summer_69(arr):\n",
    "    \"\"\"return the sum of nums in the array, except ignore secontions of nums starting with 6 and \n",
    "    extending to the next 9 (every 6 will be followed by at least one 9). Return 0 for no nums\"\"\"\n",
    "    \n",
    "    "
   ]
  },
  {
   "cell_type": "code",
   "execution_count": 78,
   "id": "134b5069",
   "metadata": {},
   "outputs": [
    {
     "name": "stdout",
     "output_type": "stream",
     "text": [
      "14\n"
     ]
    }
   ],
   "source": [
    "total = 0\n",
    "nums = [2, 3, 9]\n",
    "\n",
    "for num in nums:\n",
    "    if num == 6:\n",
    "        pass"
   ]
  },
  {
   "cell_type": "code",
   "execution_count": null,
   "id": "27ebe784",
   "metadata": {},
   "outputs": [],
   "source": []
  }
 ],
 "metadata": {
  "kernelspec": {
   "display_name": "Python 3 (ipykernel)",
   "language": "python",
   "name": "python3"
  },
  "language_info": {
   "codemirror_mode": {
    "name": "ipython",
    "version": 3
   },
   "file_extension": ".py",
   "mimetype": "text/x-python",
   "name": "python",
   "nbconvert_exporter": "python",
   "pygments_lexer": "ipython3",
   "version": "3.11.7"
  }
 },
 "nbformat": 4,
 "nbformat_minor": 5
}
