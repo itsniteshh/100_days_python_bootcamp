{
 "cells": [
  {
   "cell_type": "code",
   "execution_count": 13,
   "id": "05f7dcba",
   "metadata": {},
   "outputs": [
    {
     "name": "stdout",
     "output_type": "stream",
     "text": [
      "[0, 0, 0]\n"
     ]
    }
   ],
   "source": [
    "num1 = [0, 0, 0]\n",
    "print(num1)"
   ]
  },
  {
   "cell_type": "code",
   "execution_count": 15,
   "id": "cc095dc9",
   "metadata": {},
   "outputs": [
    {
     "name": "stdout",
     "output_type": "stream",
     "text": [
      "[0, 0, 0]\n"
     ]
    }
   ],
   "source": [
    "num2 = []\n",
    "for num in range(3):\n",
    "    num2.append(0)\n",
    "    \n",
    "print(num2)"
   ]
  },
  {
   "cell_type": "markdown",
   "id": "c3472b19",
   "metadata": {},
   "source": [
    "# Dictionaries"
   ]
  },
  {
   "cell_type": "code",
   "execution_count": 18,
   "id": "6c3f3931",
   "metadata": {},
   "outputs": [
    {
     "name": "stdout",
     "output_type": "stream",
     "text": [
      "hello\n"
     ]
    }
   ],
   "source": [
    "d = {\"simple\": \"hello\"}\n",
    "print(d[\"simple\"])"
   ]
  },
  {
   "cell_type": "code",
   "execution_count": 20,
   "id": "0664e746",
   "metadata": {},
   "outputs": [
    {
     "name": "stdout",
     "output_type": "stream",
     "text": [
      "helllo\n"
     ]
    }
   ],
   "source": [
    "d = {\"k\": {\"k1\": \"helllo\"}}\n",
    "print(d[\"k\"][\"k1\"])"
   ]
  },
  {
   "cell_type": "code",
   "execution_count": 25,
   "id": "4a0bbd13",
   "metadata": {},
   "outputs": [
    {
     "name": "stdout",
     "output_type": "stream",
     "text": [
      "['hello']\n"
     ]
    }
   ],
   "source": [
    "d = {\"k1\": [{\"nest_key\": [\"this is deep\", [\"hello\"]]}]}\n",
    "print(d[\"k1\"][0][\"nest_key\"][-1])"
   ]
  },
  {
   "cell_type": "code",
   "execution_count": 31,
   "id": "3c076457",
   "metadata": {},
   "outputs": [
    {
     "name": "stdout",
     "output_type": "stream",
     "text": [
      "['hello']\n"
     ]
    }
   ],
   "source": [
    "d = {\"k1\": [1, 2, {\"k2\": [\"this is tricky\", {\"tough\": [1, 2, [\"hello\"]]}]}]}\n",
    "            \n",
    "print(d[\"k1\"][2][\"k2\"][1][\"tough\"][2])"
   ]
  },
  {
   "cell_type": "code",
   "execution_count": 32,
   "id": "fc90b2e1",
   "metadata": {},
   "outputs": [
    {
     "data": {
      "text/plain": [
       "'C:\\\\Users\\\\Hope\\\\OneDrive\\\\Desktop\\\\Visualization Learning\\\\Coding\\\\2024 python\\\\100_days_python_bootcamp\\\\Python Bootcamp free'"
      ]
     },
     "execution_count": 32,
     "metadata": {},
     "output_type": "execute_result"
    }
   ],
   "source": [
    "pwd\n"
   ]
  },
  {
   "cell_type": "markdown",
   "id": "1efd74f7",
   "metadata": {},
   "source": [
    "# List comprehension\n"
   ]
  },
  {
   "cell_type": "code",
   "execution_count": 5,
   "id": "672e4578",
   "metadata": {},
   "outputs": [
    {
     "data": {
      "text/plain": [
       "['n', 'i', 't', 'e', 's', 'h']"
      ]
     },
     "execution_count": 5,
     "metadata": {},
     "output_type": "execute_result"
    }
   ],
   "source": [
    "my_str = \"nitesh\"\n",
    "\n",
    "mylist = [l for l in my_str]\n",
    "mylist"
   ]
  },
  {
   "cell_type": "code",
   "execution_count": 6,
   "id": "7cb054a7",
   "metadata": {},
   "outputs": [
    {
     "data": {
      "text/plain": [
       "[0, 2, 4, 6, 8, 10, 12, 14, 16, 18]"
      ]
     },
     "execution_count": 6,
     "metadata": {},
     "output_type": "execute_result"
    }
   ],
   "source": [
    "even_num = list(num for num in range(20) if num % 2 == 0)\n",
    "even_num"
   ]
  },
  {
   "cell_type": "code",
   "execution_count": 7,
   "id": "23e7accf",
   "metadata": {},
   "outputs": [
    {
     "data": {
      "text/plain": [
       "[0,\n",
       " 'not even',\n",
       " 2,\n",
       " 'not even',\n",
       " 4,\n",
       " 'not even',\n",
       " 6,\n",
       " 'not even',\n",
       " 8,\n",
       " 'not even',\n",
       " 10,\n",
       " 'not even',\n",
       " 12,\n",
       " 'not even',\n",
       " 14,\n",
       " 'not even',\n",
       " 16,\n",
       " 'not even',\n",
       " 18,\n",
       " 'not even']"
      ]
     },
     "execution_count": 7,
     "metadata": {},
     "output_type": "execute_result"
    }
   ],
   "source": [
    "# using if else in list comprehension\n",
    "\n",
    "if_else = list(num if num % 2 == 0 else \"not even\" for num in range(20)) # checking conditionals first and then providing the range\n",
    "if_else"
   ]
  },
  {
   "cell_type": "code",
   "execution_count": 23,
   "id": "efbdcef5",
   "metadata": {},
   "outputs": [
    {
     "data": {
      "text/plain": [
       "'appleay'"
      ]
     },
     "execution_count": 23,
     "metadata": {},
     "output_type": "execute_result"
    }
   ],
   "source": [
    "\n",
    "def pig_latin():\n",
    "    word = \"apple\"\n",
    "    \n",
    "    first_letter = word[0]\n",
    "    \n",
    "    if first_letter.lower() in \"aeiou\":\n",
    "        new_word = word + \"ay\"\n",
    "    else:\n",
    "        new_word = word[1:] + \"ay\"\n",
    "    \n",
    "    return new_word\n",
    "        \n",
    "pig_latin()"
   ]
  },
  {
   "cell_type": "code",
   "execution_count": null,
   "id": "677e78b7",
   "metadata": {},
   "outputs": [],
   "source": []
  }
 ],
 "metadata": {
  "kernelspec": {
   "display_name": "Python 3 (ipykernel)",
   "language": "python",
   "name": "python3"
  },
  "language_info": {
   "codemirror_mode": {
    "name": "ipython",
    "version": 3
   },
   "file_extension": ".py",
   "mimetype": "text/x-python",
   "name": "python",
   "nbconvert_exporter": "python",
   "pygments_lexer": "ipython3",
   "version": "3.11.7"
  }
 },
 "nbformat": 4,
 "nbformat_minor": 5
}
